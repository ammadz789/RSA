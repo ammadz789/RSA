{
  "nbformat": 4,
  "nbformat_minor": 0,
  "metadata": {
    "colab": {
      "name": "Zohair_EADS_project.ipynb",
      "provenance": [],
      "collapsed_sections": [],
      "toc_visible": true
    },
    "kernelspec": {
      "name": "python3",
      "display_name": "Python 3"
    },
    "language_info": {
      "name": "python"
    }
  },
  "cells": [
    {
      "cell_type": "markdown",
      "metadata": {
        "id": "sRST7GoZfJgB"
      },
      "source": [
        "# RSA(Rivest–Shamir–Adleman) public-key cryptosystem"
      ]
    },
    {
      "cell_type": "markdown",
      "metadata": {
        "id": "a1AHv1o2fvRx"
      },
      "source": [
        "## Theoratical explanation\n"
      ]
    },
    {
      "cell_type": "markdown",
      "metadata": {
        "id": "XDhzywj4kQGj"
      },
      "source": [
        "RSA is a public-key, assymetric cryptosystem that is very secure for data transmission. RSA uses a mathematically related pair of keys for encryption and decryption: a public key and a private key. A public key is a cryptographic key that can be used by any person to encrypt a message so that it can only be deciphered by the intended recipient with their private key. A private key, also known as a secret key, is shared only with key's initiator. \n",
        "\n",
        "\n",
        "\n",
        "![displaying images](https://miro.medium.com/proxy/0*yeF86NncRejLnXJz.png)\n",
        "\n",
        "\n",
        "\n",
        "An RSA user creates and publishes a public key based on two large prime numbers; the prime numbers are kept secret. Public key consists of product of the prime numbers 'n' and a value 'e' such that e is co-prime with the totient of n. Private key consists of a value 'd' which is calculated through the extended euclidean algorithim and requires the public key in addition to a constant k.\n",
        "\n"
      ]
    },
    {
      "cell_type": "markdown",
      "metadata": {
        "id": "N__tMJr9kD1p"
      },
      "source": [
        "##Implementation and Methods\n",
        "\n",
        "\n",
        "Suppose that Bob wants to send information to Alice. If they decide to use RSA, Bob must know Alice's public key to encrypt the message and Alice must use her private key to decrypt the message.\n",
        "To enable Bob to send his encrypted messages, Alice transmits her public key (n, e) to Bob via a reliable, but not necessarily secret, route. Alice's private key (d) is never distributed.\n",
        "\n",
        "The RSA algorithm involves three steps: key generation, encryption, and decryption."
      ]
    },
    {
      "cell_type": "markdown",
      "metadata": {
        "id": "f2BlLoqxiYAw"
      },
      "source": [
        "### Key Generation\n",
        "\n",
        "\n",
        "The first step is to select two prime numers p and q. For security purposes, the integers p and q should be chosen at random, and should be similar in magnitude but differ in length by a few digits to make factoring harder; p and q are kept secret. I have utilized a random number generator with range 50-100 in order to satisfy the conditions of the two integers being chosen at random and being similar in magnitude. Since these integers should be prime numbers, the Miller-Robin primality test is utilized to determine the primality of the chosen integers. Miller-Robin algorithim is perferred for primality testing over various other algorithims since it is a part of the course; although, the algorithim has been modified slightly. The isPrime function returns value of False if n is certainly not prime. A return value of True means n is very likely a prime. If both integers are not prime, new integers are chosen at random untill the condition of primality is satisfied."
      ]
    },
    {
      "cell_type": "code",
      "metadata": {
        "id": "20upBE-AZn3n"
      },
      "source": [
        "import random\n",
        "import math"
      ],
      "execution_count": 1,
      "outputs": []
    },
    {
      "cell_type": "code",
      "metadata": {
        "id": "Y_WbNWQqkiU7"
      },
      "source": [
        "def isPrime(num):\n",
        "\n",
        "  if num == 0 or num % 2 == 0:\n",
        "    return False\n",
        "  s = num - 1\n",
        "  t = 0\n",
        "                   # keep halving s while it is even (and use t to count how many times we halve s)\n",
        "  while s%2 == 0:\n",
        "    s //= 2        #floor division\n",
        "    t += 1\n",
        "\n",
        "  for k in range (5):       #num of trials\n",
        "    a = random.randrange(2, num - 1)\n",
        "    v = pow(a, s, num)\n",
        "    if v != 1:              # this test does not apply if v is 1.\n",
        "      i = 0\n",
        "      while v != (num - 1):\n",
        "        if i == t - 1:\n",
        "          return False\n",
        "        else:\n",
        "          i = i + 1\n",
        "          v = (v ** 2) % num\n",
        "  return True\n"
      ],
      "execution_count": 2,
      "outputs": []
    },
    {
      "cell_type": "markdown",
      "metadata": {
        "id": "gBxdE9onbboR"
      },
      "source": [
        "The next step is to calculate the product of the two selected primes: p*q = n, which is to be released as part of the public key. Next, the totient function of n - φ(n)- is calculated and its value stored in variable m. Phi function is used to carry out this computation and calculate the totient: φ(n) = (p − 1)(q − 1)."
      ]
    },
    {
      "cell_type": "code",
      "metadata": {
        "id": "rXGIAwi5fiLP"
      },
      "source": [
        "def phi (p,q):\n",
        "  return ((p-1)*(q-1))"
      ],
      "execution_count": 4,
      "outputs": []
    },
    {
      "cell_type": "markdown",
      "metadata": {
        "id": "QE2R_SmSfvsM"
      },
      "source": [
        "Afterwards, we select an integer e, such that e is co-prime to phi(n) and 1<e<φ(n). \n",
        "Two integers 'e' and 'm' are coprime, or mutually prime if the only positive integer that is a divisor of both of them is 1 i.e. gcd(e,m) = 1. Public key also consists of e. The math.gcd() function is used instead of euclidean algorithim to compute the highest common factor since it provides the same result and simplifies the algorithim.\n",
        "Lastly, we calculate d such that e.d = 1 modϕ(n).\n",
        "'d' can be found using the extended euclidean algorithm. This equation can be simplified as d = ((k*m)+1)/e. An appropriate constant k must be chosen such that d is an integer. The pair (n,d) makes up the private key."
      ]
    },
    {
      "cell_type": "markdown",
      "metadata": {
        "id": "uVYnlAQF3kFe"
      },
      "source": [
        "###RSA algorithim"
      ]
    },
    {
      "cell_type": "code",
      "metadata": {
        "id": "Ru0JIc-rK0jj"
      },
      "source": [
        "def rsa(message):\n",
        "\n",
        "  p = 0\n",
        "  q = 0\n",
        "\n",
        "  while not (isPrime(p) and isPrime(q)) or (p == q):\n",
        "    p = random.randint(50, 100)\n",
        "    q = random.randint(50, 100)\n",
        "  \n",
        "  print (\"P =\", + p)\n",
        "  print (\"Q =\", + q)\n",
        "\n",
        "  n = p*q\n",
        "  m = phi(p,q)\n",
        "\n",
        "  e = 2\n",
        "  while ((m > e) and (math.gcd(m, e) != 1)):\n",
        "    e+=1\n",
        "\n",
        "  print (\"Public key (n, e) =\", n, \",\",e)\n",
        "\n",
        "  d = 0.01\n",
        "  k = 0\n",
        "  while (not d.is_integer()):\n",
        "    k+=1\n",
        "    d = ((k*m)+1)/e\n",
        "\n",
        "  print (\"Private key(d) =\", + d)\n",
        "\n",
        "  print(\"Original message:\",+ message)\n",
        "\n",
        "  ciphertext = (message**e) % n\n",
        "  print(\"Encrypted message:\",+ ciphertext)\n",
        "\n",
        "  plaintext = (ciphertext**int(d)) % n\n",
        "  print(\"Decrypted message:\",+ plaintext)\n",
        "  return plaintext"
      ],
      "execution_count": 6,
      "outputs": []
    },
    {
      "cell_type": "markdown",
      "metadata": {
        "id": "_iGpu3TB31Wh"
      },
      "source": [
        "###Encryption and Decryption\n",
        "\n",
        "This implementation of RSA only handles integer messages. In order to accomodate string messages, a padding scheme will have to be implemented. Given a plaintext (integer value) m, the ciphertext c is computed using the public key (n, e). \n",
        "\n",
        "\n",
        "\n",
        "![displaying images](https://wikimedia.org/api/rest_v1/media/math/render/svg/b1c63ab770e3152d384046d1d58c8ca0e23d4fb1)\n",
        "\n",
        "\n",
        "This can be done reasonably quickly, even for very large numbers, using modular exponentiation."
      ]
    },
    {
      "cell_type": "code",
      "metadata": {
        "id": "yL1BbUyrkVP1"
      },
      "source": [
        "ciphertext = (message**e) % n"
      ],
      "execution_count": null,
      "outputs": []
    },
    {
      "cell_type": "markdown",
      "metadata": {
        "id": "WvV-mot87FJ6"
      },
      "source": [
        "The original message/plaintext can be extracted from the ciphertext by using the private key (d) :\n",
        "\n",
        "![displaying images](https://wikimedia.org/api/rest_v1/media/math/render/svg/10227461ee5f4784484f082d744ba5b8c468668c)"
      ]
    },
    {
      "cell_type": "code",
      "metadata": {
        "id": "TqUeZkTv7zso"
      },
      "source": [
        "plaintext = (ciphertext**int(d)) % n"
      ],
      "execution_count": null,
      "outputs": []
    },
    {
      "cell_type": "markdown",
      "metadata": {
        "id": "6JajDIXV-VGe"
      },
      "source": [
        "## Testing\n"
      ]
    },
    {
      "cell_type": "markdown",
      "metadata": {
        "id": "O4z2nzQM--Va"
      },
      "source": [
        "### Test 1\n",
        "A certain message will be encypted two times by passing it through the RSA algorithim seperately. The two ciphertexts derived from the same message will be decrypted and compared to see whether the plaintext obtained is also the same."
      ]
    },
    {
      "cell_type": "code",
      "metadata": {
        "id": "xiyZ6W0M_AB-"
      },
      "source": [
        "message = 500\n",
        "rsa(message)\n",
        "print(\"---------------------------\")\n",
        "rsa(message)"
      ],
      "execution_count": null,
      "outputs": []
    },
    {
      "cell_type": "markdown",
      "metadata": {
        "id": "Gt3pIkRHER8l"
      },
      "source": [
        "###Test 2\n",
        "\n",
        "Random messages will be generated between the range 100-1000. RSA function will then be called on each message so that the message is encrypted into ciphertext. The ciphertexts will be decrypted and the results obtined in decryption phase compared with the original message. If the text derived after decryption matches with the original message i.e the message was encrypted and decrypted successfully, \"Success!\" will be printed."
      ]
    },
    {
      "cell_type": "code",
      "metadata": {
        "id": "UH8_lEzWAIM7"
      },
      "source": [
        "for i in range (6):\n",
        "  message = random.randint(0, 1000)\n",
        "  result = (rsa (message))\n",
        "  print(\"---------------------------\")\n",
        "  if (result == message):\n",
        "    print(\"Test \", i, \": \",\"Success!\")\n",
        "  else:\n",
        "    print(\"Test \", i, \": \",\"Failure\")\n",
        "  print(\"---------------------------\")"
      ],
      "execution_count": null,
      "outputs": []
    },
    {
      "cell_type": "markdown",
      "metadata": {
        "id": "l0w9S4_6GBFC"
      },
      "source": [
        "## Conclusion\n",
        "\n",
        "This notebook focuses on implementing the asymmetric RSA algorithim. It details the fundamental steps required for RSA which are key generation, encryption, and decryption. Moroever, it shows a simplified version of the public key and private key and explains how they are mathmatically linked and the steps required in generating them. Finally, it carries out two tests to determine the correctness of the program.\n",
        "\n",
        "The security of RSA relies on the practical difficulty of factoring the product of two large prime numbers. RSA is a relatively slow algorithm. Because of this, it is not commonly used to directly encrypt user data. More often, RSA is used to transmit shared keys for symmetric key cryptography."
      ]
    }
  ]
}